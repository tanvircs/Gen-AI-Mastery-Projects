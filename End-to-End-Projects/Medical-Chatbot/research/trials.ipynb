{
 "cells": [
  {
   "cell_type": "code",
   "execution_count": 1,
   "metadata": {},
   "outputs": [
    {
     "name": "stdout",
     "output_type": "stream",
     "text": [
      "Requirement already satisfied: sentence-transformers in c:\\users\\tanvir ahmed\\anaconda3\\envs\\vectordb\\lib\\site-packages (3.3.1)\n",
      "Requirement already satisfied: langchain in c:\\users\\tanvir ahmed\\anaconda3\\envs\\vectordb\\lib\\site-packages (0.3.14)\n",
      "Requirement already satisfied: flask in c:\\users\\tanvir ahmed\\anaconda3\\envs\\vectordb\\lib\\site-packages (3.1.0)\n",
      "Requirement already satisfied: pypdf in c:\\users\\tanvir ahmed\\anaconda3\\envs\\vectordb\\lib\\site-packages (5.1.0)\n",
      "Requirement already satisfied: python-dotenv in c:\\users\\tanvir ahmed\\anaconda3\\envs\\vectordb\\lib\\site-packages (1.0.1)\n",
      "Requirement already satisfied: langchain-pinecone in c:\\users\\tanvir ahmed\\anaconda3\\envs\\vectordb\\lib\\site-packages (0.2.2)\n",
      "Requirement already satisfied: langchain_community in c:\\users\\tanvir ahmed\\anaconda3\\envs\\vectordb\\lib\\site-packages (0.3.14)\n",
      "Requirement already satisfied: langchain_openai in c:\\users\\tanvir ahmed\\anaconda3\\envs\\vectordb\\lib\\site-packages (0.3.0)\n",
      "Requirement already satisfied: langchain_experimental in c:\\users\\tanvir ahmed\\anaconda3\\envs\\vectordb\\lib\\site-packages (0.3.4)\n",
      "Requirement already satisfied: pinecone[grpc] in c:\\users\\tanvir ahmed\\anaconda3\\envs\\vectordb\\lib\\site-packages (5.4.2)\n",
      "Requirement already satisfied: transformers<5.0.0,>=4.41.0 in c:\\users\\tanvir ahmed\\anaconda3\\envs\\vectordb\\lib\\site-packages (from sentence-transformers) (4.48.0)\n",
      "Requirement already satisfied: tqdm in c:\\users\\tanvir ahmed\\anaconda3\\envs\\vectordb\\lib\\site-packages (from sentence-transformers) (4.67.1)\n",
      "Requirement already satisfied: torch>=1.11.0 in c:\\users\\tanvir ahmed\\anaconda3\\envs\\vectordb\\lib\\site-packages (from sentence-transformers) (2.5.1)\n",
      "Requirement already satisfied: scikit-learn in c:\\users\\tanvir ahmed\\anaconda3\\envs\\vectordb\\lib\\site-packages (from sentence-transformers) (1.6.1)\n",
      "Requirement already satisfied: scipy in c:\\users\\tanvir ahmed\\anaconda3\\envs\\vectordb\\lib\\site-packages (from sentence-transformers) (1.15.1)\n",
      "Requirement already satisfied: huggingface-hub>=0.20.0 in c:\\users\\tanvir ahmed\\anaconda3\\envs\\vectordb\\lib\\site-packages (from sentence-transformers) (0.27.1)\n",
      "Requirement already satisfied: Pillow in c:\\users\\tanvir ahmed\\anaconda3\\envs\\vectordb\\lib\\site-packages (from sentence-transformers) (11.1.0)\n",
      "Requirement already satisfied: PyYAML>=5.3 in c:\\users\\tanvir ahmed\\anaconda3\\envs\\vectordb\\lib\\site-packages (from langchain) (6.0.2)\n",
      "Requirement already satisfied: SQLAlchemy<3,>=1.4 in c:\\users\\tanvir ahmed\\anaconda3\\envs\\vectordb\\lib\\site-packages (from langchain) (2.0.37)\n",
      "Requirement already satisfied: aiohttp<4.0.0,>=3.8.3 in c:\\users\\tanvir ahmed\\anaconda3\\envs\\vectordb\\lib\\site-packages (from langchain) (3.10.11)\n",
      "Requirement already satisfied: async-timeout<5.0.0,>=4.0.0 in c:\\users\\tanvir ahmed\\anaconda3\\envs\\vectordb\\lib\\site-packages (from langchain) (4.0.3)\n",
      "Requirement already satisfied: langchain-core<0.4.0,>=0.3.29 in c:\\users\\tanvir ahmed\\anaconda3\\envs\\vectordb\\lib\\site-packages (from langchain) (0.3.29)\n",
      "Requirement already satisfied: langchain-text-splitters<0.4.0,>=0.3.3 in c:\\users\\tanvir ahmed\\anaconda3\\envs\\vectordb\\lib\\site-packages (from langchain) (0.3.5)\n",
      "Requirement already satisfied: langsmith<0.3,>=0.1.17 in c:\\users\\tanvir ahmed\\anaconda3\\envs\\vectordb\\lib\\site-packages (from langchain) (0.2.10)\n",
      "Requirement already satisfied: numpy<2,>=1.22.4 in c:\\users\\tanvir ahmed\\anaconda3\\envs\\vectordb\\lib\\site-packages (from langchain) (1.26.4)\n",
      "Requirement already satisfied: pydantic<3.0.0,>=2.7.4 in c:\\users\\tanvir ahmed\\anaconda3\\envs\\vectordb\\lib\\site-packages (from langchain) (2.10.5)\n",
      "Requirement already satisfied: requests<3,>=2 in c:\\users\\tanvir ahmed\\anaconda3\\envs\\vectordb\\lib\\site-packages (from langchain) (2.32.3)\n",
      "Requirement already satisfied: tenacity!=8.4.0,<10,>=8.1.0 in c:\\users\\tanvir ahmed\\anaconda3\\envs\\vectordb\\lib\\site-packages (from langchain) (9.0.0)\n",
      "Requirement already satisfied: Werkzeug>=3.1 in c:\\users\\tanvir ahmed\\anaconda3\\envs\\vectordb\\lib\\site-packages (from flask) (3.1.3)\n",
      "Requirement already satisfied: Jinja2>=3.1.2 in c:\\users\\tanvir ahmed\\anaconda3\\envs\\vectordb\\lib\\site-packages (from flask) (3.1.5)\n",
      "Requirement already satisfied: itsdangerous>=2.2 in c:\\users\\tanvir ahmed\\anaconda3\\envs\\vectordb\\lib\\site-packages (from flask) (2.2.0)\n",
      "Requirement already satisfied: click>=8.1.3 in c:\\users\\tanvir ahmed\\anaconda3\\envs\\vectordb\\lib\\site-packages (from flask) (8.1.8)\n",
      "Requirement already satisfied: blinker>=1.9 in c:\\users\\tanvir ahmed\\anaconda3\\envs\\vectordb\\lib\\site-packages (from flask) (1.9.0)\n",
      "Requirement already satisfied: typing_extensions>=4.0 in c:\\users\\tanvir ahmed\\anaconda3\\envs\\vectordb\\lib\\site-packages (from pypdf) (4.12.2)\n",
      "Requirement already satisfied: certifi>=2019.11.17 in c:\\users\\tanvir ahmed\\anaconda3\\envs\\vectordb\\lib\\site-packages (from pinecone[grpc]) (2024.12.14)\n",
      "Requirement already satisfied: pinecone-plugin-inference<4.0.0,>=2.0.0 in c:\\users\\tanvir ahmed\\anaconda3\\envs\\vectordb\\lib\\site-packages (from pinecone[grpc]) (3.1.0)\n",
      "Requirement already satisfied: pinecone-plugin-interface<0.0.8,>=0.0.7 in c:\\users\\tanvir ahmed\\anaconda3\\envs\\vectordb\\lib\\site-packages (from pinecone[grpc]) (0.0.7)\n",
      "Requirement already satisfied: python-dateutil>=2.5.3 in c:\\users\\tanvir ahmed\\anaconda3\\envs\\vectordb\\lib\\site-packages (from pinecone[grpc]) (2.9.0.post0)\n",
      "Requirement already satisfied: urllib3>=1.26.0 in c:\\users\\tanvir ahmed\\anaconda3\\envs\\vectordb\\lib\\site-packages (from pinecone[grpc]) (2.3.0)\n",
      "Requirement already satisfied: googleapis-common-protos>=1.53.0 in c:\\users\\tanvir ahmed\\anaconda3\\envs\\vectordb\\lib\\site-packages (from pinecone[grpc]) (1.66.0)\n",
      "Requirement already satisfied: grpcio>=1.44.0 in c:\\users\\tanvir ahmed\\anaconda3\\envs\\vectordb\\lib\\site-packages (from pinecone[grpc]) (1.69.0)\n",
      "Requirement already satisfied: lz4>=3.1.3 in c:\\users\\tanvir ahmed\\anaconda3\\envs\\vectordb\\lib\\site-packages (from pinecone[grpc]) (4.3.3)\n",
      "Requirement already satisfied: protobuf<5.0,>=4.25 in c:\\users\\tanvir ahmed\\anaconda3\\envs\\vectordb\\lib\\site-packages (from pinecone[grpc]) (4.25.5)\n",
      "Requirement already satisfied: protoc-gen-openapiv2<0.0.2,>=0.0.1 in c:\\users\\tanvir ahmed\\anaconda3\\envs\\vectordb\\lib\\site-packages (from pinecone[grpc]) (0.0.1)\n",
      "Requirement already satisfied: langchain-tests<0.4.0,>=0.3.7 in c:\\users\\tanvir ahmed\\anaconda3\\envs\\vectordb\\lib\\site-packages (from langchain-pinecone) (0.3.8)\n",
      "Requirement already satisfied: dataclasses-json<0.7,>=0.5.7 in c:\\users\\tanvir ahmed\\anaconda3\\envs\\vectordb\\lib\\site-packages (from langchain_community) (0.6.7)\n",
      "Requirement already satisfied: httpx-sse<0.5.0,>=0.4.0 in c:\\users\\tanvir ahmed\\anaconda3\\envs\\vectordb\\lib\\site-packages (from langchain_community) (0.4.0)\n",
      "Requirement already satisfied: pydantic-settings<3.0.0,>=2.4.0 in c:\\users\\tanvir ahmed\\anaconda3\\envs\\vectordb\\lib\\site-packages (from langchain_community) (2.7.1)\n",
      "Requirement already satisfied: openai<2.0.0,>=1.58.1 in c:\\users\\tanvir ahmed\\anaconda3\\envs\\vectordb\\lib\\site-packages (from langchain_openai) (1.59.8)\n",
      "Requirement already satisfied: tiktoken<1,>=0.7 in c:\\users\\tanvir ahmed\\anaconda3\\envs\\vectordb\\lib\\site-packages (from langchain_openai) (0.8.0)\n",
      "Requirement already satisfied: aiohappyeyeballs>=2.3.0 in c:\\users\\tanvir ahmed\\anaconda3\\envs\\vectordb\\lib\\site-packages (from aiohttp<4.0.0,>=3.8.3->langchain) (2.4.4)\n",
      "Requirement already satisfied: aiosignal>=1.1.2 in c:\\users\\tanvir ahmed\\anaconda3\\envs\\vectordb\\lib\\site-packages (from aiohttp<4.0.0,>=3.8.3->langchain) (1.3.2)\n",
      "Requirement already satisfied: attrs>=17.3.0 in c:\\users\\tanvir ahmed\\anaconda3\\envs\\vectordb\\lib\\site-packages (from aiohttp<4.0.0,>=3.8.3->langchain) (24.3.0)\n",
      "Requirement already satisfied: frozenlist>=1.1.1 in c:\\users\\tanvir ahmed\\anaconda3\\envs\\vectordb\\lib\\site-packages (from aiohttp<4.0.0,>=3.8.3->langchain) (1.5.0)\n",
      "Requirement already satisfied: multidict<7.0,>=4.5 in c:\\users\\tanvir ahmed\\anaconda3\\envs\\vectordb\\lib\\site-packages (from aiohttp<4.0.0,>=3.8.3->langchain) (6.1.0)\n",
      "Requirement already satisfied: yarl<2.0,>=1.12.0 in c:\\users\\tanvir ahmed\\anaconda3\\envs\\vectordb\\lib\\site-packages (from aiohttp<4.0.0,>=3.8.3->langchain) (1.18.3)\n",
      "Requirement already satisfied: colorama in c:\\users\\tanvir ahmed\\anaconda3\\envs\\vectordb\\lib\\site-packages (from click>=8.1.3->flask) (0.4.6)\n",
      "Requirement already satisfied: marshmallow<4.0.0,>=3.18.0 in c:\\users\\tanvir ahmed\\anaconda3\\envs\\vectordb\\lib\\site-packages (from dataclasses-json<0.7,>=0.5.7->langchain_community) (3.25.1)\n",
      "Requirement already satisfied: typing-inspect<1,>=0.4.0 in c:\\users\\tanvir ahmed\\anaconda3\\envs\\vectordb\\lib\\site-packages (from dataclasses-json<0.7,>=0.5.7->langchain_community) (0.9.0)\n",
      "Requirement already satisfied: filelock in c:\\users\\tanvir ahmed\\anaconda3\\envs\\vectordb\\lib\\site-packages (from huggingface-hub>=0.20.0->sentence-transformers) (3.16.1)\n",
      "Requirement already satisfied: fsspec>=2023.5.0 in c:\\users\\tanvir ahmed\\anaconda3\\envs\\vectordb\\lib\\site-packages (from huggingface-hub>=0.20.0->sentence-transformers) (2024.12.0)\n",
      "Requirement already satisfied: packaging>=20.9 in c:\\users\\tanvir ahmed\\anaconda3\\envs\\vectordb\\lib\\site-packages (from huggingface-hub>=0.20.0->sentence-transformers) (24.2)\n",
      "Requirement already satisfied: MarkupSafe>=2.0 in c:\\users\\tanvir ahmed\\anaconda3\\envs\\vectordb\\lib\\site-packages (from Jinja2>=3.1.2->flask) (3.0.2)\n",
      "Requirement already satisfied: jsonpatch<2.0,>=1.33 in c:\\users\\tanvir ahmed\\anaconda3\\envs\\vectordb\\lib\\site-packages (from langchain-core<0.4.0,>=0.3.29->langchain) (1.33)\n",
      "Requirement already satisfied: httpx<1,>=0.25.0 in c:\\users\\tanvir ahmed\\anaconda3\\envs\\vectordb\\lib\\site-packages (from langchain-tests<0.4.0,>=0.3.7->langchain-pinecone) (0.28.1)\n",
      "Requirement already satisfied: pytest<9,>=7 in c:\\users\\tanvir ahmed\\anaconda3\\envs\\vectordb\\lib\\site-packages (from langchain-tests<0.4.0,>=0.3.7->langchain-pinecone) (8.3.4)\n",
      "Requirement already satisfied: pytest-asyncio<1,>=0.20 in c:\\users\\tanvir ahmed\\anaconda3\\envs\\vectordb\\lib\\site-packages (from langchain-tests<0.4.0,>=0.3.7->langchain-pinecone) (0.25.2)\n",
      "Requirement already satisfied: pytest-socket<1,>=0.6.0 in c:\\users\\tanvir ahmed\\anaconda3\\envs\\vectordb\\lib\\site-packages (from langchain-tests<0.4.0,>=0.3.7->langchain-pinecone) (0.7.0)\n",
      "Requirement already satisfied: syrupy<5,>=4 in c:\\users\\tanvir ahmed\\anaconda3\\envs\\vectordb\\lib\\site-packages (from langchain-tests<0.4.0,>=0.3.7->langchain-pinecone) (4.8.1)\n",
      "Requirement already satisfied: orjson<4.0.0,>=3.9.14 in c:\\users\\tanvir ahmed\\anaconda3\\envs\\vectordb\\lib\\site-packages (from langsmith<0.3,>=0.1.17->langchain) (3.10.14)\n",
      "Requirement already satisfied: requests-toolbelt<2.0.0,>=1.0.0 in c:\\users\\tanvir ahmed\\anaconda3\\envs\\vectordb\\lib\\site-packages (from langsmith<0.3,>=0.1.17->langchain) (1.0.0)\n",
      "Requirement already satisfied: anyio<5,>=3.5.0 in c:\\users\\tanvir ahmed\\anaconda3\\envs\\vectordb\\lib\\site-packages (from openai<2.0.0,>=1.58.1->langchain_openai) (4.8.0)\n",
      "Requirement already satisfied: distro<2,>=1.7.0 in c:\\users\\tanvir ahmed\\anaconda3\\envs\\vectordb\\lib\\site-packages (from openai<2.0.0,>=1.58.1->langchain_openai) (1.9.0)\n",
      "Requirement already satisfied: jiter<1,>=0.4.0 in c:\\users\\tanvir ahmed\\anaconda3\\envs\\vectordb\\lib\\site-packages (from openai<2.0.0,>=1.58.1->langchain_openai) (0.8.2)\n",
      "Requirement already satisfied: sniffio in c:\\users\\tanvir ahmed\\anaconda3\\envs\\vectordb\\lib\\site-packages (from openai<2.0.0,>=1.58.1->langchain_openai) (1.3.1)\n",
      "Requirement already satisfied: annotated-types>=0.6.0 in c:\\users\\tanvir ahmed\\anaconda3\\envs\\vectordb\\lib\\site-packages (from pydantic<3.0.0,>=2.7.4->langchain) (0.7.0)\n",
      "Requirement already satisfied: pydantic-core==2.27.2 in c:\\users\\tanvir ahmed\\anaconda3\\envs\\vectordb\\lib\\site-packages (from pydantic<3.0.0,>=2.7.4->langchain) (2.27.2)\n",
      "Requirement already satisfied: six>=1.5 in c:\\users\\tanvir ahmed\\anaconda3\\envs\\vectordb\\lib\\site-packages (from python-dateutil>=2.5.3->pinecone[grpc]) (1.17.0)\n",
      "Requirement already satisfied: charset-normalizer<4,>=2 in c:\\users\\tanvir ahmed\\anaconda3\\envs\\vectordb\\lib\\site-packages (from requests<3,>=2->langchain) (3.4.1)\n",
      "Requirement already satisfied: idna<4,>=2.5 in c:\\users\\tanvir ahmed\\anaconda3\\envs\\vectordb\\lib\\site-packages (from requests<3,>=2->langchain) (3.10)\n",
      "Requirement already satisfied: greenlet!=0.4.17 in c:\\users\\tanvir ahmed\\anaconda3\\envs\\vectordb\\lib\\site-packages (from SQLAlchemy<3,>=1.4->langchain) (3.1.1)\n",
      "Requirement already satisfied: regex>=2022.1.18 in c:\\users\\tanvir ahmed\\anaconda3\\envs\\vectordb\\lib\\site-packages (from tiktoken<1,>=0.7->langchain_openai) (2024.11.6)\n",
      "Requirement already satisfied: networkx in c:\\users\\tanvir ahmed\\anaconda3\\envs\\vectordb\\lib\\site-packages (from torch>=1.11.0->sentence-transformers) (3.4.2)\n",
      "Requirement already satisfied: sympy==1.13.1 in c:\\users\\tanvir ahmed\\anaconda3\\envs\\vectordb\\lib\\site-packages (from torch>=1.11.0->sentence-transformers) (1.13.1)\n",
      "Requirement already satisfied: mpmath<1.4,>=1.1.0 in c:\\users\\tanvir ahmed\\anaconda3\\envs\\vectordb\\lib\\site-packages (from sympy==1.13.1->torch>=1.11.0->sentence-transformers) (1.3.0)\n",
      "Requirement already satisfied: tokenizers<0.22,>=0.21 in c:\\users\\tanvir ahmed\\anaconda3\\envs\\vectordb\\lib\\site-packages (from transformers<5.0.0,>=4.41.0->sentence-transformers) (0.21.0)\n",
      "Requirement already satisfied: safetensors>=0.4.1 in c:\\users\\tanvir ahmed\\anaconda3\\envs\\vectordb\\lib\\site-packages (from transformers<5.0.0,>=4.41.0->sentence-transformers) (0.5.2)\n",
      "Requirement already satisfied: joblib>=1.2.0 in c:\\users\\tanvir ahmed\\anaconda3\\envs\\vectordb\\lib\\site-packages (from scikit-learn->sentence-transformers) (1.4.2)\n",
      "Requirement already satisfied: threadpoolctl>=3.1.0 in c:\\users\\tanvir ahmed\\anaconda3\\envs\\vectordb\\lib\\site-packages (from scikit-learn->sentence-transformers) (3.5.0)\n",
      "Requirement already satisfied: exceptiongroup>=1.0.2 in c:\\users\\tanvir ahmed\\anaconda3\\envs\\vectordb\\lib\\site-packages (from anyio<5,>=3.5.0->openai<2.0.0,>=1.58.1->langchain_openai) (1.2.2)\n",
      "Requirement already satisfied: httpcore==1.* in c:\\users\\tanvir ahmed\\anaconda3\\envs\\vectordb\\lib\\site-packages (from httpx<1,>=0.25.0->langchain-tests<0.4.0,>=0.3.7->langchain-pinecone) (1.0.7)\n",
      "Requirement already satisfied: h11<0.15,>=0.13 in c:\\users\\tanvir ahmed\\anaconda3\\envs\\vectordb\\lib\\site-packages (from httpcore==1.*->httpx<1,>=0.25.0->langchain-tests<0.4.0,>=0.3.7->langchain-pinecone) (0.14.0)\n",
      "Requirement already satisfied: jsonpointer>=1.9 in c:\\users\\tanvir ahmed\\anaconda3\\envs\\vectordb\\lib\\site-packages (from jsonpatch<2.0,>=1.33->langchain-core<0.4.0,>=0.3.29->langchain) (3.0.0)\n",
      "Requirement already satisfied: iniconfig in c:\\users\\tanvir ahmed\\anaconda3\\envs\\vectordb\\lib\\site-packages (from pytest<9,>=7->langchain-tests<0.4.0,>=0.3.7->langchain-pinecone) (2.0.0)\n",
      "Requirement already satisfied: pluggy<2,>=1.5 in c:\\users\\tanvir ahmed\\anaconda3\\envs\\vectordb\\lib\\site-packages (from pytest<9,>=7->langchain-tests<0.4.0,>=0.3.7->langchain-pinecone) (1.5.0)\n",
      "Requirement already satisfied: tomli>=1 in c:\\users\\tanvir ahmed\\anaconda3\\envs\\vectordb\\lib\\site-packages (from pytest<9,>=7->langchain-tests<0.4.0,>=0.3.7->langchain-pinecone) (2.2.1)\n",
      "Requirement already satisfied: mypy-extensions>=0.3.0 in c:\\users\\tanvir ahmed\\anaconda3\\envs\\vectordb\\lib\\site-packages (from typing-inspect<1,>=0.4.0->dataclasses-json<0.7,>=0.5.7->langchain_community) (1.0.0)\n",
      "Requirement already satisfied: propcache>=0.2.0 in c:\\users\\tanvir ahmed\\anaconda3\\envs\\vectordb\\lib\\site-packages (from yarl<2.0,>=1.12.0->aiohttp<4.0.0,>=3.8.3->langchain) (0.2.1)\n"
     ]
    }
   ],
   "source": [
    "!pip install sentence-transformers langchain flask pypdf python-dotenv pinecone[grpc] langchain-pinecone langchain_community langchain_openai langchain_experimental"
   ]
  },
  {
   "cell_type": "code",
   "execution_count": 2,
   "metadata": {},
   "outputs": [],
   "source": [
    "from langchain.document_loaders import PyPDFLoader, DirectoryLoader\n",
    "from langchain.text_splitter import RecursiveCharacterTextSplitter"
   ]
  },
  {
   "cell_type": "code",
   "execution_count": 3,
   "metadata": {},
   "outputs": [],
   "source": [
    "#Extract Data From the PDF File\n",
    "def load_pdf_file(data):\n",
    "    loader= DirectoryLoader(data,\n",
    "                            glob=\"*.pdf\",\n",
    "                            loader_cls=PyPDFLoader)\n",
    "\n",
    "    documents=loader.load()\n",
    "\n",
    "    return documents\n"
   ]
  },
  {
   "cell_type": "code",
   "execution_count": 4,
   "metadata": {},
   "outputs": [
    {
     "name": "stdout",
     "output_type": "stream",
     "text": [
      "c:\\Users\\Tanvir Ahmed\\Desktop\\Gen-AI-Mastery-Projects\\End-to-End-Projects\\Medical-Chatbot\n"
     ]
    }
   ],
   "source": [
    "%cd .."
   ]
  },
  {
   "cell_type": "code",
   "execution_count": 5,
   "metadata": {},
   "outputs": [],
   "source": [
    "extracted_data=load_pdf_file(data='Data/')"
   ]
  },
  {
   "cell_type": "code",
   "execution_count": 6,
   "metadata": {},
   "outputs": [],
   "source": [
    "#Split the Data into Text Chunks\n",
    "def text_split(extracted_data):\n",
    "    text_splitter=RecursiveCharacterTextSplitter(chunk_size=500, chunk_overlap=20)\n",
    "    text_chunks=text_splitter.split_documents(extracted_data)\n",
    "    return text_chunks"
   ]
  },
  {
   "cell_type": "code",
   "execution_count": 7,
   "metadata": {},
   "outputs": [
    {
     "name": "stdout",
     "output_type": "stream",
     "text": [
      "Length of Text Chunks 5860\n"
     ]
    }
   ],
   "source": [
    "text_chunks=text_split(extracted_data)\n",
    "print(\"Length of Text Chunks\", len(text_chunks))"
   ]
  },
  {
   "cell_type": "code",
   "execution_count": 8,
   "metadata": {},
   "outputs": [
    {
     "name": "stdout",
     "output_type": "stream",
     "text": [
      "Requirement already satisfied: sentence-transformers in c:\\users\\tanvir ahmed\\anaconda3\\envs\\vectordb\\lib\\site-packages (3.3.1)\n",
      "Requirement already satisfied: transformers<5.0.0,>=4.41.0 in c:\\users\\tanvir ahmed\\anaconda3\\envs\\vectordb\\lib\\site-packages (from sentence-transformers) (4.48.0)\n",
      "Requirement already satisfied: tqdm in c:\\users\\tanvir ahmed\\anaconda3\\envs\\vectordb\\lib\\site-packages (from sentence-transformers) (4.67.1)\n",
      "Requirement already satisfied: torch>=1.11.0 in c:\\users\\tanvir ahmed\\anaconda3\\envs\\vectordb\\lib\\site-packages (from sentence-transformers) (2.5.1)\n",
      "Requirement already satisfied: scikit-learn in c:\\users\\tanvir ahmed\\anaconda3\\envs\\vectordb\\lib\\site-packages (from sentence-transformers) (1.6.1)\n",
      "Requirement already satisfied: scipy in c:\\users\\tanvir ahmed\\anaconda3\\envs\\vectordb\\lib\\site-packages (from sentence-transformers) (1.15.1)\n",
      "Requirement already satisfied: huggingface-hub>=0.20.0 in c:\\users\\tanvir ahmed\\anaconda3\\envs\\vectordb\\lib\\site-packages (from sentence-transformers) (0.27.1)\n",
      "Requirement already satisfied: Pillow in c:\\users\\tanvir ahmed\\anaconda3\\envs\\vectordb\\lib\\site-packages (from sentence-transformers) (11.1.0)\n",
      "Requirement already satisfied: filelock in c:\\users\\tanvir ahmed\\anaconda3\\envs\\vectordb\\lib\\site-packages (from huggingface-hub>=0.20.0->sentence-transformers) (3.16.1)\n",
      "Requirement already satisfied: fsspec>=2023.5.0 in c:\\users\\tanvir ahmed\\anaconda3\\envs\\vectordb\\lib\\site-packages (from huggingface-hub>=0.20.0->sentence-transformers) (2024.12.0)\n",
      "Requirement already satisfied: packaging>=20.9 in c:\\users\\tanvir ahmed\\anaconda3\\envs\\vectordb\\lib\\site-packages (from huggingface-hub>=0.20.0->sentence-transformers) (24.2)\n",
      "Requirement already satisfied: pyyaml>=5.1 in c:\\users\\tanvir ahmed\\anaconda3\\envs\\vectordb\\lib\\site-packages (from huggingface-hub>=0.20.0->sentence-transformers) (6.0.2)\n",
      "Requirement already satisfied: requests in c:\\users\\tanvir ahmed\\anaconda3\\envs\\vectordb\\lib\\site-packages (from huggingface-hub>=0.20.0->sentence-transformers) (2.32.3)\n",
      "Requirement already satisfied: typing-extensions>=3.7.4.3 in c:\\users\\tanvir ahmed\\anaconda3\\envs\\vectordb\\lib\\site-packages (from huggingface-hub>=0.20.0->sentence-transformers) (4.12.2)\n",
      "Requirement already satisfied: networkx in c:\\users\\tanvir ahmed\\anaconda3\\envs\\vectordb\\lib\\site-packages (from torch>=1.11.0->sentence-transformers) (3.4.2)\n",
      "Requirement already satisfied: jinja2 in c:\\users\\tanvir ahmed\\anaconda3\\envs\\vectordb\\lib\\site-packages (from torch>=1.11.0->sentence-transformers) (3.1.5)\n",
      "Requirement already satisfied: sympy==1.13.1 in c:\\users\\tanvir ahmed\\anaconda3\\envs\\vectordb\\lib\\site-packages (from torch>=1.11.0->sentence-transformers) (1.13.1)\n",
      "Requirement already satisfied: mpmath<1.4,>=1.1.0 in c:\\users\\tanvir ahmed\\anaconda3\\envs\\vectordb\\lib\\site-packages (from sympy==1.13.1->torch>=1.11.0->sentence-transformers) (1.3.0)\n",
      "Requirement already satisfied: colorama in c:\\users\\tanvir ahmed\\anaconda3\\envs\\vectordb\\lib\\site-packages (from tqdm->sentence-transformers) (0.4.6)\n",
      "Requirement already satisfied: numpy>=1.17 in c:\\users\\tanvir ahmed\\anaconda3\\envs\\vectordb\\lib\\site-packages (from transformers<5.0.0,>=4.41.0->sentence-transformers) (1.26.4)\n",
      "Requirement already satisfied: regex!=2019.12.17 in c:\\users\\tanvir ahmed\\anaconda3\\envs\\vectordb\\lib\\site-packages (from transformers<5.0.0,>=4.41.0->sentence-transformers) (2024.11.6)\n",
      "Requirement already satisfied: tokenizers<0.22,>=0.21 in c:\\users\\tanvir ahmed\\anaconda3\\envs\\vectordb\\lib\\site-packages (from transformers<5.0.0,>=4.41.0->sentence-transformers) (0.21.0)\n",
      "Requirement already satisfied: safetensors>=0.4.1 in c:\\users\\tanvir ahmed\\anaconda3\\envs\\vectordb\\lib\\site-packages (from transformers<5.0.0,>=4.41.0->sentence-transformers) (0.5.2)\n",
      "Requirement already satisfied: joblib>=1.2.0 in c:\\users\\tanvir ahmed\\anaconda3\\envs\\vectordb\\lib\\site-packages (from scikit-learn->sentence-transformers) (1.4.2)\n",
      "Requirement already satisfied: threadpoolctl>=3.1.0 in c:\\users\\tanvir ahmed\\anaconda3\\envs\\vectordb\\lib\\site-packages (from scikit-learn->sentence-transformers) (3.5.0)\n",
      "Requirement already satisfied: MarkupSafe>=2.0 in c:\\users\\tanvir ahmed\\anaconda3\\envs\\vectordb\\lib\\site-packages (from jinja2->torch>=1.11.0->sentence-transformers) (3.0.2)\n",
      "Requirement already satisfied: charset-normalizer<4,>=2 in c:\\users\\tanvir ahmed\\anaconda3\\envs\\vectordb\\lib\\site-packages (from requests->huggingface-hub>=0.20.0->sentence-transformers) (3.4.1)\n",
      "Requirement already satisfied: idna<4,>=2.5 in c:\\users\\tanvir ahmed\\anaconda3\\envs\\vectordb\\lib\\site-packages (from requests->huggingface-hub>=0.20.0->sentence-transformers) (3.10)\n",
      "Requirement already satisfied: urllib3<3,>=1.21.1 in c:\\users\\tanvir ahmed\\anaconda3\\envs\\vectordb\\lib\\site-packages (from requests->huggingface-hub>=0.20.0->sentence-transformers) (2.3.0)\n",
      "Requirement already satisfied: certifi>=2017.4.17 in c:\\users\\tanvir ahmed\\anaconda3\\envs\\vectordb\\lib\\site-packages (from requests->huggingface-hub>=0.20.0->sentence-transformers) (2024.12.14)\n"
     ]
    }
   ],
   "source": [
    "!pip install --upgrade sentence-transformers"
   ]
  },
  {
   "cell_type": "code",
   "execution_count": 9,
   "metadata": {},
   "outputs": [
    {
     "name": "stderr",
     "output_type": "stream",
     "text": [
      "c:\\Users\\Tanvir Ahmed\\anaconda3\\envs\\vectordb\\lib\\site-packages\\tqdm\\auto.py:21: TqdmWarning: IProgress not found. Please update jupyter and ipywidgets. See https://ipywidgets.readthedocs.io/en/stable/user_install.html\n",
      "  from .autonotebook import tqdm as notebook_tqdm\n",
      "C:\\Users\\Tanvir Ahmed\\AppData\\Local\\Temp\\ipykernel_11304\\4135913315.py:4: LangChainDeprecationWarning: The class `HuggingFaceEmbeddings` was deprecated in LangChain 0.2.2 and will be removed in 1.0. An updated version of the class exists in the :class:`~langchain-huggingface package and should be used instead. To use it run `pip install -U :class:`~langchain-huggingface` and import as `from :class:`~langchain_huggingface import HuggingFaceEmbeddings``.\n",
      "  embeddings = HuggingFaceEmbeddings(model_name=\"sentence-transformers/all-MiniLM-L6-v2\")\n"
     ]
    }
   ],
   "source": [
    "from langchain.embeddings.huggingface import HuggingFaceEmbeddings\n",
    "from sentence_transformers import SentenceTransformer\n",
    "\n",
    "embeddings = HuggingFaceEmbeddings(model_name=\"sentence-transformers/all-MiniLM-L6-v2\")\n"
   ]
  },
  {
   "cell_type": "code",
   "execution_count": 10,
   "metadata": {},
   "outputs": [
    {
     "name": "stdout",
     "output_type": "stream",
     "text": [
      "Length 384\n"
     ]
    }
   ],
   "source": [
    "query_result = embeddings.embed_query(\"Hello world\")\n",
    "print(\"Length\", len(query_result))"
   ]
  },
  {
   "cell_type": "code",
   "execution_count": 11,
   "metadata": {},
   "outputs": [
    {
     "data": {
      "text/plain": [
       "True"
      ]
     },
     "execution_count": 11,
     "metadata": {},
     "output_type": "execute_result"
    }
   ],
   "source": [
    "from dotenv import load_dotenv\n",
    "load_dotenv()"
   ]
  },
  {
   "cell_type": "code",
   "execution_count": 12,
   "metadata": {},
   "outputs": [
    {
     "name": "stdout",
     "output_type": "stream",
     "text": [
      "Environment variables set successfully!\n"
     ]
    }
   ],
   "source": [
    "from getpass import getpass\n",
    "import os\n",
    "\n",
    "PINECONE_API_KEY = getpass(\"Enter your Pinecone API key: \")\n",
    "\n",
    "os.environ[\"PINECONE_API_KEY\"] = PINECONE_API_KEY\n",
    "\n",
    "print(\"Environment variables set successfully!\")\n"
   ]
  },
  {
   "cell_type": "code",
   "execution_count": 13,
   "metadata": {},
   "outputs": [],
   "source": [
    "from pinecone.grpc import PineconeGRPC as Pinecone\n",
    "from pinecone import ServerlessSpec\n",
    "import os\n",
    "\n",
    "pc = Pinecone(api_key=PINECONE_API_KEY)\n",
    "\n",
    "index_name = \"medicalbot\"\n",
    "\n",
    "\n",
    "pc.create_index(\n",
    "    name=index_name,\n",
    "    dimension=384, \n",
    "    metric=\"cosine\", \n",
    "    spec=ServerlessSpec(\n",
    "        cloud=\"aws\", \n",
    "        region=\"us-east-1\"\n",
    "    ) \n",
    ") "
   ]
  },
  {
   "cell_type": "code",
   "execution_count": 14,
   "metadata": {},
   "outputs": [
    {
     "name": "stdout",
     "output_type": "stream",
     "text": [
      "Documents added to Pinecone Vector Store!\n"
     ]
    }
   ],
   "source": [
    "from langchain.vectorstores import Pinecone\n",
    "\n",
    "# Load documents and create the Pinecone vector store\n",
    "docsearch = Pinecone.from_documents(\n",
    "    documents=text_chunks,\n",
    "    embedding=embeddings,  # Pass the embedding function, not the raw model\n",
    "    index_name=index_name\n",
    ")\n",
    "\n",
    "print(\"Documents added to Pinecone Vector Store!\")"
   ]
  },
  {
   "cell_type": "code",
   "execution_count": 15,
   "metadata": {},
   "outputs": [],
   "source": [
    "retriever = docsearch.as_retriever(search_type=\"similarity\", search_kwargs={\"k\":3})"
   ]
  },
  {
   "cell_type": "code",
   "execution_count": 16,
   "metadata": {},
   "outputs": [],
   "source": [
    "retrieved_docs = retriever.invoke(\"What is Acne?\")"
   ]
  },
  {
   "cell_type": "code",
   "execution_count": 17,
   "metadata": {},
   "outputs": [
    {
     "data": {
      "text/plain": [
       "[Document(metadata={'page': 39.0, 'source': 'Data\\\\Medical_book.pdf'}, page_content='GALE ENCYCLOPEDIA OF MEDICINE 226\\nAcne\\nGEM - 0001 to 0432 - A  10/22/03 1:41 PM  Page 26'),\n",
       " Document(metadata={'page': 38.0, 'source': 'Data\\\\Medical_book.pdf'}, page_content='GALE ENCYCLOPEDIA OF MEDICINE 2 25\\nAcne\\nAcne vulgaris affecting a woman’s face. Acne is the general\\nname given to a skin disorder in which the sebaceous\\nglands become inflamed.(Photograph by Biophoto Associ-\\nates, Photo Researchers, Inc. Reproduced by permission.)\\nGEM - 0001 to 0432 - A  10/22/03 1:41 PM  Page 25'),\n",
       " Document(metadata={'page': 37.0, 'source': 'Data\\\\Medical_book.pdf'}, page_content='Acidosis see Respiratory acidosis; Renal\\ntubular acidosis; Metabolic acidosis\\nAcne\\nDefinition\\nAcne is a common skin disease characterized by\\npimples on the face, chest, and back. It occurs when the\\npores of the skin become clogged with oil, dead skin\\ncells, and bacteria.\\nDescription\\nAcne vulgaris, the medical term for common acne, is\\nthe most common skin disease. It affects nearly 17 million\\npeople in the United States. While acne can arise at any')]"
      ]
     },
     "execution_count": 17,
     "metadata": {},
     "output_type": "execute_result"
    }
   ],
   "source": [
    "retrieved_docs"
   ]
  },
  {
   "cell_type": "code",
   "execution_count": 18,
   "metadata": {},
   "outputs": [],
   "source": [
    "from langchain_openai import OpenAI\n",
    "llm = OpenAI(temperature=0.4, max_tokens=500)"
   ]
  },
  {
   "cell_type": "code",
   "execution_count": 19,
   "metadata": {},
   "outputs": [],
   "source": [
    "from langchain.chains import create_retrieval_chain\n",
    "from langchain.chains.combine_documents import create_stuff_documents_chain\n",
    "from langchain_core.prompts import ChatPromptTemplate\n",
    "\n",
    "\n",
    "system_prompt = (\n",
    "    \"You are an assistant for question-answering tasks. \"\n",
    "    \"Use the following pieces of retrieved context to answer \"\n",
    "    \"the question. If you don't know the answer, say that you \"\n",
    "    \"don't know. Use three sentences maximum and keep the \"\n",
    "    \"answer concise.\"\n",
    "    \"\\n\\n\"\n",
    "    \"{context}\"\n",
    ")\n",
    "\n",
    "\n",
    "prompt = ChatPromptTemplate.from_messages(\n",
    "    [\n",
    "        (\"system\", system_prompt),\n",
    "        (\"human\", \"{input}\"),\n",
    "    ]\n",
    ")"
   ]
  },
  {
   "cell_type": "code",
   "execution_count": 20,
   "metadata": {},
   "outputs": [],
   "source": [
    "question_answer_chain = create_stuff_documents_chain(llm, prompt)\n",
    "rag_chain = create_retrieval_chain(retriever, question_answer_chain)"
   ]
  },
  {
   "cell_type": "code",
   "execution_count": 21,
   "metadata": {},
   "outputs": [
    {
     "name": "stdout",
     "output_type": "stream",
     "text": [
      "Environment variables set successfully!\n"
     ]
    }
   ],
   "source": [
    "from getpass import getpass\n",
    "import os\n",
    "\n",
    "OPENAI_API_KEY = getpass(\"Enter your OpenAI API key: \")\n",
    "os.environ[\"OPENAI_API_KEY\"] = OPENAI_API_KEY\n",
    "print(\"Environment variables set successfully!\")\n"
   ]
  },
  {
   "cell_type": "code",
   "execution_count": 22,
   "metadata": {},
   "outputs": [],
   "source": [
    "from dotenv import load_dotenv\n",
    "load_dotenv()\n",
    "\n",
    "openai_api_key = os.getenv(\"OPENAI_API_KEY\")\n",
    "if not openai_api_key:\n",
    "    raise ValueError(\"OpenAI API key not found in environment variables.\")\n"
   ]
  },
  {
   "cell_type": "code",
   "execution_count": 23,
   "metadata": {},
   "outputs": [
    {
     "name": "stdout",
     "output_type": "stream",
     "text": [
      "\n",
      "\n",
      "Acromegaly and gigantism are disorders caused by the abnormal release of a chemical from the pituitary gland in the brain, resulting in increased growth in bone and soft tissue and other disturbances throughout the body. It is a relatively rare disorder, affecting both men and women, and is often not diagnosed until middle age due to the gradual onset of symptoms. It can lead to unusual height if it occurs after bone growth has stopped.\n"
     ]
    }
   ],
   "source": [
    "response = rag_chain.invoke({\"input\": \"what is Acromegaly and gigantism?\"})\n",
    "print(response[\"answer\"])"
   ]
  },
  {
   "cell_type": "code",
   "execution_count": null,
   "metadata": {},
   "outputs": [],
   "source": []
  }
 ],
 "metadata": {
  "kernelspec": {
   "display_name": "vectordb",
   "language": "python",
   "name": "python3"
  },
  "language_info": {
   "codemirror_mode": {
    "name": "ipython",
    "version": 3
   },
   "file_extension": ".py",
   "mimetype": "text/x-python",
   "name": "python",
   "nbconvert_exporter": "python",
   "pygments_lexer": "ipython3",
   "version": "3.10.16"
  }
 },
 "nbformat": 4,
 "nbformat_minor": 2
}
